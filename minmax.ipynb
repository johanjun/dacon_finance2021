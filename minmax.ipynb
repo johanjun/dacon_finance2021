{
 "cells": [
  {
   "cell_type": "code",
   "execution_count": 1,
   "metadata": {
    "ExecuteTime": {
     "end_time": "2021-05-18T01:54:51.870413Z",
     "start_time": "2021-05-18T01:54:51.311179Z"
    }
   },
   "outputs": [],
   "source": [
    "import pandas as pd"
   ]
  },
  {
   "cell_type": "code",
   "execution_count": 53,
   "metadata": {
    "ExecuteTime": {
     "end_time": "2021-05-18T04:53:30.453591Z",
     "start_time": "2021-05-18T04:53:26.988448Z"
    },
    "scrolled": true
   },
   "outputs": [
    {
     "data": {
      "text/html": [
       "<div>\n",
       "<style scoped>\n",
       "    .dataframe tbody tr th:only-of-type {\n",
       "        vertical-align: middle;\n",
       "    }\n",
       "\n",
       "    .dataframe tbody tr th {\n",
       "        vertical-align: top;\n",
       "    }\n",
       "\n",
       "    .dataframe thead th {\n",
       "        text-align: right;\n",
       "    }\n",
       "</style>\n",
       "<table border=\"1\" class=\"dataframe\">\n",
       "  <thead>\n",
       "    <tr style=\"text-align: right;\">\n",
       "      <th></th>\n",
       "      <th>주택유형별</th>\n",
       "      <th>지역별</th>\n",
       "      <th>시점</th>\n",
       "      <th>매매가격 대비 전세가격</th>\n",
       "      <th>날짜</th>\n",
       "    </tr>\n",
       "  </thead>\n",
       "  <tbody>\n",
       "    <tr>\n",
       "      <th>0</th>\n",
       "      <td>종합</td>\n",
       "      <td>전국</td>\n",
       "      <td>2012. 01 월</td>\n",
       "      <td>57.944427</td>\n",
       "      <td>2012. 01</td>\n",
       "    </tr>\n",
       "    <tr>\n",
       "      <th>1</th>\n",
       "      <td>종합</td>\n",
       "      <td>전국</td>\n",
       "      <td>2012. 02 월</td>\n",
       "      <td>58.005779</td>\n",
       "      <td>2012. 02</td>\n",
       "    </tr>\n",
       "    <tr>\n",
       "      <th>2</th>\n",
       "      <td>종합</td>\n",
       "      <td>전국</td>\n",
       "      <td>2012. 03 월</td>\n",
       "      <td>58.017981</td>\n",
       "      <td>2012. 03</td>\n",
       "    </tr>\n",
       "    <tr>\n",
       "      <th>3</th>\n",
       "      <td>종합</td>\n",
       "      <td>전국</td>\n",
       "      <td>2012. 04 월</td>\n",
       "      <td>58.097297</td>\n",
       "      <td>2012. 04</td>\n",
       "    </tr>\n",
       "    <tr>\n",
       "      <th>4</th>\n",
       "      <td>종합</td>\n",
       "      <td>전국</td>\n",
       "      <td>2012. 05 월</td>\n",
       "      <td>58.176380</td>\n",
       "      <td>2012. 05</td>\n",
       "    </tr>\n",
       "  </tbody>\n",
       "</table>\n",
       "</div>"
      ],
      "text/plain": [
       "  주택유형별 지역별          시점  매매가격 대비 전세가격         날짜\n",
       "0    종합  전국  2012. 01 월     57.944427  2012. 01 \n",
       "1    종합  전국  2012. 02 월     58.005779  2012. 02 \n",
       "2    종합  전국  2012. 03 월     58.017981  2012. 03 \n",
       "3    종합  전국  2012. 04 월     58.097297  2012. 04 \n",
       "4    종합  전국  2012. 05 월     58.176380  2012. 05 "
      ]
     },
     "execution_count": 53,
     "metadata": {},
     "output_type": "execute_result"
    }
   ],
   "source": [
    "df = pd.read_excel('./data/_유형별 매매가격대비전세가격비율(2012-2020).xlsx')\n",
    "df.head()"
   ]
  },
  {
   "cell_type": "code",
   "execution_count": 54,
   "metadata": {
    "ExecuteTime": {
     "end_time": "2021-05-18T04:53:30.587955Z",
     "start_time": "2021-05-18T04:53:30.555232Z"
    }
   },
   "outputs": [
    {
     "data": {
      "text/plain": [
       "(37905, 5)"
      ]
     },
     "execution_count": 54,
     "metadata": {},
     "output_type": "execute_result"
    }
   ],
   "source": [
    "df.shape"
   ]
  },
  {
   "cell_type": "code",
   "execution_count": 55,
   "metadata": {
    "ExecuteTime": {
     "end_time": "2021-05-18T04:53:30.711777Z",
     "start_time": "2021-05-18T04:53:30.651188Z"
    }
   },
   "outputs": [
    {
     "data": {
      "text/html": [
       "<div>\n",
       "<style scoped>\n",
       "    .dataframe tbody tr th:only-of-type {\n",
       "        vertical-align: middle;\n",
       "    }\n",
       "\n",
       "    .dataframe tbody tr th {\n",
       "        vertical-align: top;\n",
       "    }\n",
       "\n",
       "    .dataframe thead th {\n",
       "        text-align: right;\n",
       "    }\n",
       "</style>\n",
       "<table border=\"1\" class=\"dataframe\">\n",
       "  <thead>\n",
       "    <tr style=\"text-align: right;\">\n",
       "      <th></th>\n",
       "      <th>매매가격 대비 전세가격</th>\n",
       "    </tr>\n",
       "  </thead>\n",
       "  <tbody>\n",
       "    <tr>\n",
       "      <th>count</th>\n",
       "      <td>37905.000000</td>\n",
       "    </tr>\n",
       "    <tr>\n",
       "      <th>mean</th>\n",
       "      <td>66.784954</td>\n",
       "    </tr>\n",
       "    <tr>\n",
       "      <th>std</th>\n",
       "      <td>10.042301</td>\n",
       "    </tr>\n",
       "    <tr>\n",
       "      <th>min</th>\n",
       "      <td>28.452381</td>\n",
       "    </tr>\n",
       "    <tr>\n",
       "      <th>25%</th>\n",
       "      <td>61.927016</td>\n",
       "    </tr>\n",
       "    <tr>\n",
       "      <th>50%</th>\n",
       "      <td>68.954717</td>\n",
       "    </tr>\n",
       "    <tr>\n",
       "      <th>75%</th>\n",
       "      <td>73.849991</td>\n",
       "    </tr>\n",
       "    <tr>\n",
       "      <th>max</th>\n",
       "      <td>87.589694</td>\n",
       "    </tr>\n",
       "  </tbody>\n",
       "</table>\n",
       "</div>"
      ],
      "text/plain": [
       "       매매가격 대비 전세가격\n",
       "count  37905.000000\n",
       "mean      66.784954\n",
       "std       10.042301\n",
       "min       28.452381\n",
       "25%       61.927016\n",
       "50%       68.954717\n",
       "75%       73.849991\n",
       "max       87.589694"
      ]
     },
     "execution_count": 55,
     "metadata": {},
     "output_type": "execute_result"
    }
   ],
   "source": [
    "df.describe()"
   ]
  },
  {
   "cell_type": "code",
   "execution_count": 56,
   "metadata": {
    "ExecuteTime": {
     "end_time": "2021-05-18T04:53:30.801639Z",
     "start_time": "2021-05-18T04:53:30.781125Z"
    }
   },
   "outputs": [
    {
     "data": {
      "text/plain": [
       "array(['종합', '아파트', '연립다세대', '단독주택'], dtype=object)"
      ]
     },
     "execution_count": 56,
     "metadata": {},
     "output_type": "execute_result"
    }
   ],
   "source": [
    "df['주택유형별'].unique()"
   ]
  },
  {
   "cell_type": "code",
   "execution_count": 57,
   "metadata": {
    "ExecuteTime": {
     "end_time": "2021-05-18T04:53:30.899341Z",
     "start_time": "2021-05-18T04:53:30.886662Z"
    }
   },
   "outputs": [
    {
     "data": {
      "text/plain": [
       "(4417, 5)"
      ]
     },
     "execution_count": 57,
     "metadata": {},
     "output_type": "execute_result"
    }
   ],
   "source": [
    "df_total = df[df['주택유형별']=='종합']\n",
    "df_total.shape"
   ]
  },
  {
   "cell_type": "code",
   "execution_count": 59,
   "metadata": {
    "ExecuteTime": {
     "end_time": "2021-05-18T04:53:33.608766Z",
     "start_time": "2021-05-18T04:53:33.605602Z"
    }
   },
   "outputs": [],
   "source": [
    "from sklearn.preprocessing import MinMaxScaler"
   ]
  },
  {
   "cell_type": "code",
   "execution_count": 60,
   "metadata": {
    "ExecuteTime": {
     "end_time": "2021-05-18T04:53:34.098788Z",
     "start_time": "2021-05-18T04:53:34.095688Z"
    }
   },
   "outputs": [],
   "source": [
    "scaler = MinMaxScaler()"
   ]
  },
  {
   "cell_type": "code",
   "execution_count": 65,
   "metadata": {
    "ExecuteTime": {
     "end_time": "2021-05-18T04:56:32.282250Z",
     "start_time": "2021-05-18T04:56:32.268797Z"
    },
    "scrolled": true
   },
   "outputs": [
    {
     "data": {
      "text/plain": [
       "array([[0.44139518],\n",
       "       [0.44323693],\n",
       "       [0.44360322],\n",
       "       ...,\n",
       "       [0.55873839],\n",
       "       [0.55902501],\n",
       "       [0.5599529 ]])"
      ]
     },
     "execution_count": 65,
     "metadata": {},
     "output_type": "execute_result"
    }
   ],
   "source": [
    "data_scaled = scaler.fit_transform(df_total.iloc[:, [3]])"
   ]
  },
  {
   "cell_type": "code",
   "execution_count": 68,
   "metadata": {
    "ExecuteTime": {
     "end_time": "2021-05-18T04:57:22.029097Z",
     "start_time": "2021-05-18T04:57:22.013686Z"
    },
    "scrolled": true
   },
   "outputs": [
    {
     "data": {
      "text/html": [
       "<div>\n",
       "<style scoped>\n",
       "    .dataframe tbody tr th:only-of-type {\n",
       "        vertical-align: middle;\n",
       "    }\n",
       "\n",
       "    .dataframe tbody tr th {\n",
       "        vertical-align: top;\n",
       "    }\n",
       "\n",
       "    .dataframe thead th {\n",
       "        text-align: right;\n",
       "    }\n",
       "</style>\n",
       "<table border=\"1\" class=\"dataframe\">\n",
       "  <thead>\n",
       "    <tr style=\"text-align: right;\">\n",
       "      <th></th>\n",
       "      <th>주택유형별</th>\n",
       "      <th>지역별</th>\n",
       "      <th>시점</th>\n",
       "      <th>매매가격 대비 전세가격</th>\n",
       "      <th>날짜</th>\n",
       "      <th>매매가격 대비 전세가격(scaled)</th>\n",
       "    </tr>\n",
       "  </thead>\n",
       "  <tbody>\n",
       "    <tr>\n",
       "      <th>0</th>\n",
       "      <td>종합</td>\n",
       "      <td>전국</td>\n",
       "      <td>2012. 01 월</td>\n",
       "      <td>57.944427</td>\n",
       "      <td>2012. 01</td>\n",
       "      <td>0.441395</td>\n",
       "    </tr>\n",
       "    <tr>\n",
       "      <th>1</th>\n",
       "      <td>종합</td>\n",
       "      <td>전국</td>\n",
       "      <td>2012. 02 월</td>\n",
       "      <td>58.005779</td>\n",
       "      <td>2012. 02</td>\n",
       "      <td>0.443237</td>\n",
       "    </tr>\n",
       "    <tr>\n",
       "      <th>2</th>\n",
       "      <td>종합</td>\n",
       "      <td>전국</td>\n",
       "      <td>2012. 03 월</td>\n",
       "      <td>58.017981</td>\n",
       "      <td>2012. 03</td>\n",
       "      <td>0.443603</td>\n",
       "    </tr>\n",
       "    <tr>\n",
       "      <th>3</th>\n",
       "      <td>종합</td>\n",
       "      <td>전국</td>\n",
       "      <td>2012. 04 월</td>\n",
       "      <td>58.097297</td>\n",
       "      <td>2012. 04</td>\n",
       "      <td>0.445984</td>\n",
       "    </tr>\n",
       "    <tr>\n",
       "      <th>4</th>\n",
       "      <td>종합</td>\n",
       "      <td>전국</td>\n",
       "      <td>2012. 05 월</td>\n",
       "      <td>58.176380</td>\n",
       "      <td>2012. 05</td>\n",
       "      <td>0.448358</td>\n",
       "    </tr>\n",
       "  </tbody>\n",
       "</table>\n",
       "</div>"
      ],
      "text/plain": [
       "  주택유형별 지역별          시점  매매가격 대비 전세가격         날짜  매매가격 대비 전세가격(scaled)\n",
       "0    종합  전국  2012. 01 월     57.944427  2012. 01               0.441395\n",
       "1    종합  전국  2012. 02 월     58.005779  2012. 02               0.443237\n",
       "2    종합  전국  2012. 03 월     58.017981  2012. 03               0.443603\n",
       "3    종합  전국  2012. 04 월     58.097297  2012. 04               0.445984\n",
       "4    종합  전국  2012. 05 월     58.176380  2012. 05               0.448358"
      ]
     },
     "execution_count": 68,
     "metadata": {},
     "output_type": "execute_result"
    }
   ],
   "source": [
    "df_total['매매가격 대비 전세가격(scaled)'] = data_scaled\n",
    "df_total.head()"
   ]
  },
  {
   "cell_type": "code",
   "execution_count": 80,
   "metadata": {
    "ExecuteTime": {
     "end_time": "2021-05-18T05:18:46.423994Z",
     "start_time": "2021-05-18T05:18:46.419614Z"
    }
   },
   "outputs": [],
   "source": [
    "def mmScaler(df):\n",
    "    scaler = MinMaxScaler()\n",
    "    data_scaled = scaler.fit_transform(df.iloc[:, [3]])\n",
    "    df['매매가격 대비 전세가격(scaled)'] = data_scaled\n",
    "    return df"
   ]
  },
  {
   "cell_type": "code",
   "execution_count": 81,
   "metadata": {
    "ExecuteTime": {
     "end_time": "2021-05-18T05:18:47.815173Z",
     "start_time": "2021-05-18T05:18:47.776151Z"
    }
   },
   "outputs": [],
   "source": [
    "df_apartment = df[df['주택유형별']=='아파트']\n",
    "df_apartment = mmScaler(df_apartment)"
   ]
  },
  {
   "cell_type": "code",
   "execution_count": 82,
   "metadata": {
    "ExecuteTime": {
     "end_time": "2021-05-18T05:18:50.923285Z",
     "start_time": "2021-05-18T05:18:50.908948Z"
    }
   },
   "outputs": [],
   "source": [
    "df_multi = df[df['주택유형별']=='연립다세대']\n",
    "df_multi = mmScaler(df_multi)"
   ]
  },
  {
   "cell_type": "code",
   "execution_count": 83,
   "metadata": {
    "ExecuteTime": {
     "end_time": "2021-05-18T05:18:51.206183Z",
     "start_time": "2021-05-18T05:18:51.189215Z"
    }
   },
   "outputs": [],
   "source": [
    "df_single = df[df['주택유형별']=='단독주택']\n",
    "df_single = mmScaler(df_single)"
   ]
  },
  {
   "cell_type": "code",
   "execution_count": 85,
   "metadata": {
    "ExecuteTime": {
     "end_time": "2021-05-18T05:18:55.141121Z",
     "start_time": "2021-05-18T05:18:55.134941Z"
    }
   },
   "outputs": [
    {
     "name": "stdout",
     "output_type": "stream",
     "text": [
      "(4417, 6)\n",
      "(24654, 6)\n",
      "(4417, 6)\n",
      "(4417, 6)\n"
     ]
    }
   ],
   "source": [
    "print(df_total.shape)\n",
    "print(df_apartment.shape)\n",
    "print(df_multi.shape)\n",
    "print(df_single.shape)"
   ]
  },
  {
   "cell_type": "code",
   "execution_count": 86,
   "metadata": {
    "ExecuteTime": {
     "end_time": "2021-05-18T05:18:57.712532Z",
     "start_time": "2021-05-18T05:18:57.697968Z"
    }
   },
   "outputs": [],
   "source": [
    "df_result = pd.concat([df_total, df_apartment, df_multi, df_single])"
   ]
  },
  {
   "cell_type": "code",
   "execution_count": 87,
   "metadata": {
    "ExecuteTime": {
     "end_time": "2021-05-18T05:18:58.331317Z",
     "start_time": "2021-05-18T05:18:58.287023Z"
    },
    "scrolled": false
   },
   "outputs": [
    {
     "name": "stdout",
     "output_type": "stream",
     "text": [
      "(37905, 6)\n"
     ]
    },
    {
     "data": {
      "text/html": [
       "<div>\n",
       "<style scoped>\n",
       "    .dataframe tbody tr th:only-of-type {\n",
       "        vertical-align: middle;\n",
       "    }\n",
       "\n",
       "    .dataframe tbody tr th {\n",
       "        vertical-align: top;\n",
       "    }\n",
       "\n",
       "    .dataframe thead th {\n",
       "        text-align: right;\n",
       "    }\n",
       "</style>\n",
       "<table border=\"1\" class=\"dataframe\">\n",
       "  <thead>\n",
       "    <tr style=\"text-align: right;\">\n",
       "      <th></th>\n",
       "      <th>주택유형별</th>\n",
       "      <th>지역별</th>\n",
       "      <th>시점</th>\n",
       "      <th>매매가격 대비 전세가격</th>\n",
       "      <th>날짜</th>\n",
       "      <th>매매가격 대비 전세가격(scaled)</th>\n",
       "    </tr>\n",
       "  </thead>\n",
       "  <tbody>\n",
       "    <tr>\n",
       "      <th>0</th>\n",
       "      <td>종합</td>\n",
       "      <td>전국</td>\n",
       "      <td>2012. 01 월</td>\n",
       "      <td>57.944427</td>\n",
       "      <td>2012. 01</td>\n",
       "      <td>0.441395</td>\n",
       "    </tr>\n",
       "    <tr>\n",
       "      <th>1</th>\n",
       "      <td>종합</td>\n",
       "      <td>전국</td>\n",
       "      <td>2012. 02 월</td>\n",
       "      <td>58.005779</td>\n",
       "      <td>2012. 02</td>\n",
       "      <td>0.443237</td>\n",
       "    </tr>\n",
       "    <tr>\n",
       "      <th>2</th>\n",
       "      <td>종합</td>\n",
       "      <td>전국</td>\n",
       "      <td>2012. 03 월</td>\n",
       "      <td>58.017981</td>\n",
       "      <td>2012. 03</td>\n",
       "      <td>0.443603</td>\n",
       "    </tr>\n",
       "    <tr>\n",
       "      <th>3</th>\n",
       "      <td>종합</td>\n",
       "      <td>전국</td>\n",
       "      <td>2012. 04 월</td>\n",
       "      <td>58.097297</td>\n",
       "      <td>2012. 04</td>\n",
       "      <td>0.445984</td>\n",
       "    </tr>\n",
       "    <tr>\n",
       "      <th>4</th>\n",
       "      <td>종합</td>\n",
       "      <td>전국</td>\n",
       "      <td>2012. 05 월</td>\n",
       "      <td>58.176380</td>\n",
       "      <td>2012. 05</td>\n",
       "      <td>0.448358</td>\n",
       "    </tr>\n",
       "    <tr>\n",
       "      <th>...</th>\n",
       "      <td>...</td>\n",
       "      <td>...</td>\n",
       "      <td>...</td>\n",
       "      <td>...</td>\n",
       "      <td>...</td>\n",
       "      <td>...</td>\n",
       "    </tr>\n",
       "    <tr>\n",
       "      <th>37900</th>\n",
       "      <td>단독주택</td>\n",
       "      <td>제주</td>\n",
       "      <td>2020. 08 월</td>\n",
       "      <td>55.443446</td>\n",
       "      <td>2020. 08</td>\n",
       "      <td>0.835036</td>\n",
       "    </tr>\n",
       "    <tr>\n",
       "      <th>37901</th>\n",
       "      <td>단독주택</td>\n",
       "      <td>제주</td>\n",
       "      <td>2020. 09 월</td>\n",
       "      <td>55.421737</td>\n",
       "      <td>2020. 09</td>\n",
       "      <td>0.834364</td>\n",
       "    </tr>\n",
       "    <tr>\n",
       "      <th>37902</th>\n",
       "      <td>단독주택</td>\n",
       "      <td>제주</td>\n",
       "      <td>2020. 10 월</td>\n",
       "      <td>55.434832</td>\n",
       "      <td>2020. 10</td>\n",
       "      <td>0.834769</td>\n",
       "    </tr>\n",
       "    <tr>\n",
       "      <th>37903</th>\n",
       "      <td>단독주택</td>\n",
       "      <td>제주</td>\n",
       "      <td>2020. 11 월</td>\n",
       "      <td>55.440929</td>\n",
       "      <td>2020. 11</td>\n",
       "      <td>0.834958</td>\n",
       "    </tr>\n",
       "    <tr>\n",
       "      <th>37904</th>\n",
       "      <td>단독주택</td>\n",
       "      <td>제주</td>\n",
       "      <td>2020. 12 월</td>\n",
       "      <td>55.469282</td>\n",
       "      <td>2020. 12</td>\n",
       "      <td>0.835835</td>\n",
       "    </tr>\n",
       "  </tbody>\n",
       "</table>\n",
       "<p>37905 rows × 6 columns</p>\n",
       "</div>"
      ],
      "text/plain": [
       "      주택유형별 지역별          시점  매매가격 대비 전세가격         날짜  매매가격 대비 전세가격(scaled)\n",
       "0        종합  전국  2012. 01 월     57.944427  2012. 01               0.441395\n",
       "1        종합  전국  2012. 02 월     58.005779  2012. 02               0.443237\n",
       "2        종합  전국  2012. 03 월     58.017981  2012. 03               0.443603\n",
       "3        종합  전국  2012. 04 월     58.097297  2012. 04               0.445984\n",
       "4        종합  전국  2012. 05 월     58.176380  2012. 05               0.448358\n",
       "...     ...  ..         ...           ...        ...                   ...\n",
       "37900  단독주택  제주  2020. 08 월     55.443446  2020. 08               0.835036\n",
       "37901  단독주택  제주  2020. 09 월     55.421737  2020. 09               0.834364\n",
       "37902  단독주택  제주  2020. 10 월     55.434832  2020. 10               0.834769\n",
       "37903  단독주택  제주  2020. 11 월     55.440929  2020. 11               0.834958\n",
       "37904  단독주택  제주  2020. 12 월     55.469282  2020. 12               0.835835\n",
       "\n",
       "[37905 rows x 6 columns]"
      ]
     },
     "execution_count": 87,
     "metadata": {},
     "output_type": "execute_result"
    }
   ],
   "source": [
    "print(df_result.shape)\n",
    "df_result"
   ]
  },
  {
   "cell_type": "code",
   "execution_count": 88,
   "metadata": {
    "ExecuteTime": {
     "end_time": "2021-05-18T05:19:44.292017Z",
     "start_time": "2021-05-18T05:19:36.861651Z"
    }
   },
   "outputs": [],
   "source": [
    "df_result.to_excel('유형별 매매가격대비전세가격비율(2012-2020)_scaled.xlsx')"
   ]
  },
  {
   "cell_type": "code",
   "execution_count": null,
   "metadata": {},
   "outputs": [],
   "source": []
  }
 ],
 "metadata": {
  "kernelspec": {
   "display_name": "Python 3",
   "language": "python",
   "name": "python3"
  },
  "language_info": {
   "codemirror_mode": {
    "name": "ipython",
    "version": 3
   },
   "file_extension": ".py",
   "mimetype": "text/x-python",
   "name": "python",
   "nbconvert_exporter": "python",
   "pygments_lexer": "ipython3",
   "version": "3.8.5"
  },
  "toc": {
   "base_numbering": 1,
   "nav_menu": {},
   "number_sections": true,
   "sideBar": true,
   "skip_h1_title": false,
   "title_cell": "Table of Contents",
   "title_sidebar": "Contents",
   "toc_cell": false,
   "toc_position": {},
   "toc_section_display": true,
   "toc_window_display": false
  },
  "varInspector": {
   "cols": {
    "lenName": 16,
    "lenType": 16,
    "lenVar": 40
   },
   "kernels_config": {
    "python": {
     "delete_cmd_postfix": "",
     "delete_cmd_prefix": "del ",
     "library": "var_list.py",
     "varRefreshCmd": "print(var_dic_list())"
    },
    "r": {
     "delete_cmd_postfix": ") ",
     "delete_cmd_prefix": "rm(",
     "library": "var_list.r",
     "varRefreshCmd": "cat(var_dic_list()) "
    }
   },
   "types_to_exclude": [
    "module",
    "function",
    "builtin_function_or_method",
    "instance",
    "_Feature"
   ],
   "window_display": false
  }
 },
 "nbformat": 4,
 "nbformat_minor": 4
}
